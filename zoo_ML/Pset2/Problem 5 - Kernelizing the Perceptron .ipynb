{
 "cells": [
  {
   "cell_type": "markdown",
   "metadata": {},
   "source": [
    "# 5. Kernelizing the Perceptron \n",
    "Let there be a binary classification problem with $y\\in\\{0,1\\}$. The perceptron uses hypotheses of the form $h_{\\theta}(x)=g(\\theta^Tx)$,where $g(z)={\\rm sign}(z)= 1$ if $z \\geq 0$, $0$ otherwise. In this problem we will consider a stochastic gradient descent-like implementation of the perceptron algorithm where each update to the parameters $\\theta$ is made using only one training example. However, unlike stochastic gradient descent, the perceptron algorithm will only make one pass through the entire training set. The update rule for this version of the perceptron algorithm is given by\n",
    "\n",
    "\\begin{align*}\n",
    "\\theta^{(i+1)} := \\theta^{(i)} + \\alpha\\left(y^{(i+1)} -h_{\\theta^{(i)}} (x^{(i+1)})\\right)x^{(i+1)}\n",
    "\\end{align*}\n",
    "\n",
    "where $\\theta^{(i)}$ is the value of the parameters after the algorithm has seen the first $i$ training examples.\n",
    "Prior to seeing any training examples, $\\theta^{(0)}$ is initialized to $\\vec{0}$."
   ]
  },
  {
   "cell_type": "markdown",
   "metadata": {},
   "source": [
    "__(a)__ [9 points] Let $K$ be a Mercer kernel corresponding to some very high-dimensional feature mapping $\\phi$. Suppose $\\phi$ is so high-dimensional (say, $\\infty$-dimensional) that it's infeasible to ever represent $\\phi(x)$ explicitly. Describe how you would apply the “kernel trick” to the perceptron to make it work in the high-dimensional feature space $\\phi$, but without ever explicitly computing $\\phi(x)$.\n",
    "\n",
    "[__Note__: You don’t have to worry about the intercept term. If you like, think of $\\phi$ as having the property that $\\phi_0(x) = 1$ so that this is taken care of.] Your description should specify:\n",
    "\n",
    "__i.__ [3 points] How you will (implicitly) represent the high-dimensional parameter vector $\\theta^{(i)}$, including how the initial value $\\theta^{(0)} = 0$ is represented (note that $\\theta^{(i)}$ is now a vector whose dimension is the same as the feature vectors $\\phi(x)$);\n",
    "\n",
    "__ii.__ [3 points] How you will efficiently make a prediction on a new input $x^{(i+1)}$. I.e., how\n",
    "you will compute $h_{\\theta^{(i)}}(x(i+1)) = g({\\theta^{(i)}}^T \\phi(x^{(i+1)}))$, using your representation of $\\theta^{(i)}$;\n",
    "and\n",
    "\n",
    "__iii.__ [3 points] How you will modify the update rule given above to perform an update to $\\theta$\n",
    "on a new training example $(x^{(i+1)},y^{(i+1)})$; *i.e.*, using the update rule corresponding to the feature mapping $\\phi$:\n",
    "\n",
    "\n",
    "\\begin{align*}\n",
    "\\theta^{(i+1)} := \\theta^{(i)} + \\alpha\\left(y^{(i+1)}-h_{\\theta^{(i)}} (x^{(i+1)})\\right)\\phi(x^{(i+1)}).\n",
    "\\end{align*}\n",
    "\n",
    "### Answer:"
   ]
  },
  {
   "cell_type": "markdown",
   "metadata": {},
   "source": [
    "<b>i.</b> We can assume that $$\\theta^{(i)} = \\sum_{j=1}^m \\beta^{(i)}_j \\phi(x^{(j)}).$$\n",
    "So to have $\\theta^{(i)}$, we need to determine $\\beta^{(i)}_j$'s.\n",
    "    \n",
    "<b> ii.</b> If we have $\\beta^{(i)}_j$'s, then \n",
    "    $${\\theta^{(i)}}^T \\phi(x^{(k)}) = \\sum_{j=1}^m\\beta^{(i)}_j K(x^{(j)}, x^{(k)}).$$\n",
    "\n",
    "    \n",
    "<b> iii.</b> The update corresponding to the training example $(x^{(l)},y^{(l)})$ is\n",
    "    \n",
    "\\begin{align*}\n",
    "\\theta^{new} \n",
    "&= \\theta^{old} + \\alpha\\left(y^{(l)}-h_{\\theta^{old}} (x^{(l)})\\right)\\phi(x^{(l)})\\\\\n",
    "& = \\sum_{j=1}^m \\beta^{old}_j \\phi(x^{(j)}) + \n",
    "\\alpha\\left(y^{(l)}- {\\rm sign}\\left(\\sum_{j=1}^m\\beta^{old}_j K(x^{(j)}, x^{(l)})\\right)\\right)\\phi(x^{(l)})\\\\\n",
    "& = \\sum_{j=1}^m \\beta^{new}_j \\phi(x^{(j)}),\n",
    "\\end{align*}\n",
    "    \n",
    "where $\\beta^{new}_j = \\beta^{old}_j$ for all $j\\neq l$ and \n",
    "\\begin{align*}\n",
    "\\beta^{new}_{l} = \\beta^{old}_{l} + \\alpha\\left(y^{(l)}-{\\rm sign}\\left(\\sum_{j=1}^m\\beta^{old}_j K(x^{(j)}, x^{(l)})\\right)\\right).\n",
    "\\end{align*}\n",
    "    \n",
    "#### If we want to go over the data only once, then $\\beta^{old}_{l} = 0$ for each $l$(what we do in the following algorithm!)."
   ]
  },
  {
   "cell_type": "markdown",
   "metadata": {},
   "source": [
    "<b>(b)</b> [5 points] Implement your approach by completing the initial state, predict, and\n",
    "update state methods of `src/p05_percept.py`."
   ]
  },
  {
   "cell_type": "code",
   "execution_count": 1,
   "metadata": {},
   "outputs": [],
   "source": [
    "import math\n",
    "\n",
    "import matplotlib.pyplot as plt\n",
    "import numpy as np\n",
    "\n",
    "import src.util as util"
   ]
  },
  {
   "cell_type": "code",
   "execution_count": 2,
   "metadata": {},
   "outputs": [],
   "source": [
    "def initial_state():\n",
    "    \"\"\"Return the initial state for the perceptron.\n",
    "\n",
    "    This function computes and then returns the initial state of the perceptron.\n",
    "    Feel free to use any data type (dicts, lists, tuples, or custom classes) to\n",
    "    contain the state of the perceptron.\n",
    "\n",
    "    \"\"\"\n",
    "\n",
    "    # *** START CODE HERE ***\n",
    "    return []\n",
    "    # *** END CODE HERE ***\n",
    "\n",
    "\n",
    "def predict(state, kernel, x_i):\n",
    "    \"\"\"Peform a prediction on a given instance x_i given the current state\n",
    "    and the kernel.\n",
    "\n",
    "    Args:\n",
    "        state: The state returned from initial_state()\n",
    "        kernel: A binary function that takes two vectors as input and returns\n",
    "            the result of a kernel\n",
    "        x_i: A vector containing the features for a single instance\n",
    "    \n",
    "    Returns:\n",
    "        Returns the prediction (i.e 0 or 1)\n",
    "    \"\"\"\n",
    "    # *** START CODE HERE ***\n",
    "    Sum = 0\n",
    "    for b, x in state:\n",
    "        Sum += b * kernel(x, x_i)\n",
    "    return sign(Sum)\n",
    "        \n",
    "    # *** END CODE HERE ***\n",
    "\n",
    "\n",
    "def update_state(state, kernel, learning_rate, x_i, y_i):\n",
    "    \"\"\"Updates the state of the perceptron.\n",
    "\n",
    "    Args:\n",
    "        state: The state returned from initial_state()\n",
    "        kernel: A binary function that takes two vectors as input and returns the result of a kernel\n",
    "        learning_rate: The learning rate for the update\n",
    "        x_i: A vector containing the features for a single instance\n",
    "        y_i: A 0 or 1 indicating the label for a single instance\n",
    "    \"\"\"\n",
    "    # *** START CODE HERE ***\n",
    "    beta = learning_rate * (y_i - predict(state, kernel, x_i))\n",
    "    state.append((beta, x_i))\n",
    "    # *** END CODE HERE ***\n",
    "\n",
    "\n",
    "def sign(a):\n",
    "    \"\"\"Gets the sign of a scalar input.\"\"\"\n",
    "    if a >= 0:\n",
    "        return 1\n",
    "    else:\n",
    "        return 0\n",
    "\n",
    "\n",
    "def dot_kernel(a, b):\n",
    "    \"\"\"An implementation of a dot product kernel.\n",
    "\n",
    "    Args:\n",
    "        a: A vector\n",
    "        b: A vector\n",
    "    \"\"\"\n",
    "    return np.dot(a, b)\n",
    "\n",
    "\n",
    "def rbf_kernel(a, b, sigma=1):\n",
    "    \"\"\"An implementation of the radial basis function kernel.\n",
    "\n",
    "    Args:\n",
    "        a: A vector\n",
    "        b: A vector\n",
    "        sigma: The radius of the kernel\n",
    "    \"\"\"\n",
    "    distance = (a - b).dot(a - b)\n",
    "    scaled_distance = -distance / (2 * (sigma) ** 2)\n",
    "    return math.exp(scaled_distance)\n",
    "\n",
    "\n",
    "def train_perceptron(kernel_name, kernel, learning_rate):\n",
    "    \"\"\"Train a perceptron with the given kernel.\n",
    "\n",
    "    This function trains a perceptron with a given kernel and then\n",
    "    uses that perceptron to make predictions.\n",
    "    The output predictions are saved to src/output/p05_{kernel_name}_predictions.txt.\n",
    "    The output plots are saved to src/output_{kernel_name}_output.pdf.\n",
    "\n",
    "    Args:\n",
    "        kernel_name: The name of the kernel.\n",
    "        kernel: The kernel function.\n",
    "        learning_rate: The learning rate for training.\n",
    "    \"\"\"\n",
    "    train_x, train_y = util.load_csv('data/ds5_train.csv')\n",
    "\n",
    "    state = initial_state()\n",
    "\n",
    "    for x_i, y_i in zip(train_x, train_y):\n",
    "        update_state(state, kernel, learning_rate, x_i, y_i)\n",
    "\n",
    "    test_x, test_y = util.load_csv('data/ds5_train.csv')\n",
    "\n",
    "    plt.figure(figsize=(12, 8))\n",
    "    util.plot_contour(lambda a: predict(state, kernel, a))\n",
    "    util.plot_points(test_x, test_y)\n",
    "    plt.savefig('output/p05_{}_output.pdf'.format(kernel_name))\n",
    "\n",
    "    predict_y = [predict(state, kernel, test_x[i, :]) for i in range(test_y.shape[0])]\n",
    "    np.savetxt('output/p05_{}_predictions.txt'.format(kernel_name), predict_y)\n",
    "    print('Accuracy using {} kernel is {}%'.format(kernel_name, 100 * np.mean(np.array(predict_y)==test_y)))\n",
    "    plt.show()\n",
    "\n",
    "\n",
    "def main():\n",
    "    train_perceptron('dot', dot_kernel, 0.5)\n",
    "    train_perceptron('rbf', rbf_kernel, 0.5)"
   ]
  },
  {
   "cell_type": "markdown",
   "metadata": {},
   "source": [
    "__(c)__ [2 points] Run src/p05percept.py to train kernelized perceptrons on `data/ds5train.csv`. The code will then test the perceptron on `data/ds5_test.csv` and save the resulting predictions in the `src/output` folder. Plots will also be saved in src/output. We provide two kernels, a dot product kernel and an radial basis function (rbf) kernel. One of the provided kernels performs extremely poorly in classifying the points. Which kernel performs badly and why does it fail?\n",
    "### <font color=red> Answer:</font>"
   ]
  },
  {
   "cell_type": "code",
   "execution_count": 3,
   "metadata": {},
   "outputs": [
    {
     "name": "stdout",
     "output_type": "stream",
     "text": [
      "Accuracy using dot kernel is 48.0%\n"
     ]
    },
    {
     "data": {
      "image/png": "[encoded data removed]",
      "text/plain": [
       "<Figure size 864x576 with 1 Axes>"
      ]
     },
     "metadata": {
      "needs_background": "light"
     },
     "output_type": "display_data"
    },
    {
     "name": "stdout",
     "output_type": "stream",
     "text": [
      "Accuracy using rbf kernel is 94.5%\n"
     ]
    },
    {
     "data": {
      "image/png": "[encoded data removed]",
      "text/plain": [
       "<Figure size 864x576 with 1 Axes>"
      ]
     },
     "metadata": {
      "needs_background": "light"
     },
     "output_type": "display_data"
    }
   ],
   "source": [
    "main()"
   ]
  },
  {
   "cell_type": "markdown",
   "metadata": {},
   "source": [
    "When we use `dot_kernel`, we are indeed using the raw data with no feature mapping while the data is not lineraly seperable. So, in this situation, the algorithm performs  poorly in classifying the points. "
   ]
  }
 ],
 "metadata": {
  "kernelspec": {
   "display_name": "Python 3",
   "language": "python",
   "name": "python3"
  },
  "language_info": {
   "codemirror_mode": {
    "name": "ipython",
    "version": 3
   },
   "file_extension": ".py",
   "mimetype": "text/x-python",
   "name": "python",
   "nbconvert_exporter": "python",
   "pygments_lexer": "ipython3",
   "version": "3.7.6"
  }
 },
 "nbformat": 4,
 "nbformat_minor": 4
}
