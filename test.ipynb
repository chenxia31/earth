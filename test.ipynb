{
 "cells": [
  {
   "cell_type": "code",
   "execution_count": 1,
   "metadata": {},
   "outputs": [],
   "source": [
    "a=[1,1,0,1,1,1,1,1,1,1]\n",
    "b=[0.66,0.33,0,1,0.33,0.66,0.33,0.33,0.66,1]\n",
    "c=[0.34,0.55,0.18,0.45,0.87,0.16,0.11,0.73,1,0.27]"
   ]
  },
  {
   "cell_type": "code",
   "execution_count": 4,
   "metadata": {},
   "outputs": [
    {
     "name": "stdout",
     "output_type": "stream",
     "text": [
      "0.6666666666666666\n",
      "0.6266666666666667\n",
      "0.06\n",
      "0.8166666666666668\n",
      "0.7333333333333334\n",
      "0.6066666666666667\n",
      "0.48000000000000004\n",
      "0.6866666666666666\n",
      "0.8866666666666667\n",
      "0.7566666666666667\n"
     ]
    }
   ],
   "source": [
    "for x,y,z in zip(a,b,c):\n",
    "    print((x+y+z)/3)"
   ]
  },
  {
   "cell_type": "code",
   "execution_count": 11,
   "metadata": {},
   "outputs": [
    {
     "data": {
      "text/plain": [
       "0.934068055375491"
      ]
     },
     "execution_count": 11,
     "metadata": {},
     "output_type": "execute_result"
    }
   ],
   "source": [
    "def info(a,b):\n",
    "    import math\n",
    "    r1=a/(a+b)\n",
    "    r2=b/(a+b)\n",
    "    if r2==0:\n",
    "        return -r1*math.log2(r1)\n",
    "    return -r1*math.log2(r1)-r2*math.log2(r2)\n",
    "info(7,13)"
   ]
  },
  {
   "cell_type": "code",
   "execution_count": 9,
   "metadata": {},
   "outputs": [
    {
     "data": {
      "text/plain": [
       "0.7046906255395173"
      ]
     },
     "execution_count": 9,
     "metadata": {},
     "output_type": "execute_result"
    }
   ],
   "source": [
    "13/20*info(11,2)+7/20*info(2,5)"
   ]
  },
  {
   "cell_type": "code",
   "execution_count": 12,
   "metadata": {},
   "outputs": [
    {
     "data": {
      "text/plain": [
       "0.21742577727983858"
      ]
     },
     "execution_count": 12,
     "metadata": {},
     "output_type": "execute_result"
    }
   ],
   "source": [
    "7/20*info(7,0)+8/20*info(1,7)+5/20*info(5,0)"
   ]
  },
  {
   "cell_type": "code",
   "execution_count": 13,
   "metadata": {},
   "outputs": [
    {
     "data": {
      "text/plain": [
       "0.9261207468426806"
      ]
     },
     "execution_count": 13,
     "metadata": {},
     "output_type": "execute_result"
    }
   ],
   "source": [
    "10/20*info(6,4)+10/20*info(7,3)"
   ]
  },
  {
   "cell_type": "code",
   "execution_count": 15,
   "metadata": {},
   "outputs": [
    {
     "data": {
      "text/plain": [
       "0.7717870541589985"
      ]
     },
     "execution_count": 15,
     "metadata": {},
     "output_type": "execute_result"
    }
   ],
   "source": [
    "8/20*info(3,5)+12/20*info(10,2)"
   ]
  },
  {
   "cell_type": "code",
   "execution_count": 16,
   "metadata": {},
   "outputs": [
    {
     "data": {
      "text/plain": [
       "0.8937151490463608"
      ]
     },
     "execution_count": 16,
     "metadata": {},
     "output_type": "execute_result"
    }
   ],
   "source": [
    "6/20*info(3,3)+9/20*info(6,3)+5/20*info(4,1)"
   ]
  },
  {
   "cell_type": "code",
   "execution_count": 19,
   "metadata": {},
   "outputs": [
    {
     "name": "stdout",
     "output_type": "stream",
     "text": [
      "0.3409090909090909\n",
      "0.5454545454545454\n",
      "0.18181818181818182\n",
      "0.45454545454545453\n",
      "0.8863636363636364\n",
      "0.1590909090909091\n",
      "0.11363636363636363\n",
      "0.7272727272727273\n",
      "1.0\n",
      "0.2727272727272727\n"
     ]
    }
   ],
   "source": [
    "for x in [15,24,8,20,39,7,5,32,44,12]:\n",
    "    print(x/44)"
   ]
  },
  {
   "cell_type": "code",
   "execution_count": null,
   "metadata": {},
   "outputs": [],
   "source": []
  }
 ],
 "metadata": {
  "kernelspec": {
   "display_name": "Python 3.9.0 ('datastudy')",
   "language": "python",
   "name": "python3"
  },
  "language_info": {
   "codemirror_mode": {
    "name": "ipython",
    "version": 3
   },
   "file_extension": ".py",
   "mimetype": "text/x-python",
   "name": "python",
   "nbconvert_exporter": "python",
   "pygments_lexer": "ipython3",
   "version": "3.9.0"
  },
  "orig_nbformat": 4,
  "vscode": {
   "interpreter": {
    "hash": "3273f24b59296cb560c65bed09ded30a701d6324543f77e854781b9b57ede183"
   }
  }
 },
 "nbformat": 4,
 "nbformat_minor": 2
}
