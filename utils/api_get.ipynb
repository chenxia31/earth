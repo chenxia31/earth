{
 "cells": [
  {
   "cell_type": "code",
   "execution_count": 3,
   "metadata": {},
   "outputs": [
    {
     "name": "stdout",
     "output_type": "stream",
     "text": [
      "<Response [401]>\n"
     ]
    }
   ],
   "source": [
    "import requests\n",
    "# 帮我写request\n",
    "token='3GLv1XQu4TWZi1XKplFw4jxbCacZE6T50vhwPbe9'\n",
    "url='https://segment-api.inrix.com/v1/segments/speed?box=47.77577|-122.207249,47.743362|-122.16227&accesstoken='+token\n",
    "res=requests.get(url)\n",
    "print(res)\n"
   ]
  },
  {
   "cell_type": "code",
   "execution_count": 20,
   "metadata": {},
   "outputs": [
    {
     "name": "stdout",
     "output_type": "stream",
     "text": [
      "{\"copyright\":\"Copyright INRIX Inc. 2023\",\"versionNumber\":\"v1\",\"createdDate\":\"2023-03-30T08:23:52.3698242Z\",\"responseId\":\"a3ac5c28-a72f-404a-8f7d-d2fd10d1aa8b\",\"error\":{\"httpCode\":401,\"statusId\":42,\"userMessage\":\"Invalid http header.\",\"systemMessage\":\"Invalid http header.\",\"moreInfo\":\"http://docs.inrix.com/v1/errors/42\"}}\n"
     ]
    }
   ],
   "source": [
    "appId='u8p8hzifoj'\n",
    "headers={\n",
    "        \"Accept\": \"application/json\"\n",
    "      }\n",
    "hashtoken='dThwOGh6aWZvanwzR0x2MVhRdTRUV1ppMVhLcGxGdzRqeGJDYWNaRTZUNTB2aHdQYmU5'\n",
    "url='https://uas-api.inrix.com/v1/appToken?appId='+appId+'&hashToken='+hashtoken\n",
    "res=requests.get(url,headers)\n",
    "print(res.text)"
   ]
  }
 ],
 "metadata": {
  "kernelspec": {
   "display_name": "Python 3.9.16 ('tf2')",
   "language": "python",
   "name": "python3"
  },
  "language_info": {
   "codemirror_mode": {
    "name": "ipython",
    "version": 3
   },
   "file_extension": ".py",
   "mimetype": "text/x-python",
   "name": "python",
   "nbconvert_exporter": "python",
   "pygments_lexer": "ipython3",
   "version": "3.9.16"
  },
  "orig_nbformat": 4,
  "vscode": {
   "interpreter": {
    "hash": "82ca69f3d02436474f504e5bc8aa3d57c6bfabac6fe00c9a130f4089cd6bf168"
   }
  }
 },
 "nbformat": 4,
 "nbformat_minor": 2
}
