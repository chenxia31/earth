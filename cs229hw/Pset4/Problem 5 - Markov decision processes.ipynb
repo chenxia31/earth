{
 "cells": [
  {
   "cell_type": "markdown",
   "metadata": {},
   "source": [
    "# Problem 5 - Markov decision processes\n",
    "\n",
    "Consider an MDP with finite state and action spaces, and discount factor $\\gamma<1$. Let $B$ be the Bellman update operator with $V$ a vector of values for each state. I.e., if $V'=B(V)$, then\n",
    "\n",
    "\\begin{align*}\n",
    "V'(s) = R(s) + \\gamma\\max_{a\\in A}\\sum_{s'\\in S}P_{sa}(s') V(s').\n",
    "\\end{align*}"
   ]
  },
  {
   "cell_type": "markdown",
   "metadata": {},
   "source": [
    "## (a) [10 points] \n",
    "\n",
    "Prove that, for any two finite-valued vectors $V_1,V_2$, it holds true that \n",
    "\n",
    "\\begin{align*}\n",
    "\\|B(V_1)-B(V_2)\\|_\\infty \\leq \\gamma\\|V_1-V_2\\|_\\infty\n",
    "\\end{align*}\n",
    "\n",
    "where \n",
    "\n",
    "\\begin{align*}\n",
    "\\|V\\|_\\infty = \\max_{s\\in S}|V(s)|.\n",
    "\\end{align*}\n",
    "\n",
    "__(This shows that the Bellman update operator is a \"$\\gamma$-contraction in the max-norm.\")__\n",
    "\n",
    "### Answer:"
   ]
  },
  {
   "cell_type": "markdown",
   "metadata": {},
   "source": [
    "For each $s\\in S$, \n",
    "\n",
    "\\begin{align*}\n",
    "|B(V_1)(s)-B(V_2)(s)|\n",
    "& = \\gamma\\left|\\max_{a\\in A}\\sum_{s'\\in S} P_{sa}(s') V_1(s') - \\max_{a''\\in A}\\sum_{s''\\in S}P_{sa''}(s'') V_2(s'')\\right|\\\\\n",
    "& = \\gamma\\left|\\max_{a\\in A}\\left[\\sum_{s'\\in S} P_{sa}(s') V_1(s') - \\max_{a''\\in A}\\sum_{s''\\in S}P_{sa''}(s'') V_2(s'')\\right]\\right|\\\\\n",
    "& \\leq \\gamma\\left|\\max_{a\\in A}\\left[\\sum_{s'\\in S} P_{sa}(s') V_1(s') - \\sum_{s''\\in S}P_{sa}(s'') V_2(s'')\\right]\\right|\\\\\n",
    "& = \\gamma\\left|\\max_{a\\in A}\\sum_{s'\\in S} P_{sa}(s') \\left[V_1(s') - V_2(s')\\right]\\right|\\\\\n",
    "& \\leq \\gamma\\left|\\max_{a\\in A}\\sum_{s'\\in S} P_{sa}(s') \\max_{s''\\in S}\\left|V_1(s'') - V_2(s'')\\right|\\right|\\\\\n",
    "& \\leq \\gamma\\left|\\max_{s''\\in S}\\left|V_1(s'') - V_2(s'')\\right| \\max_{a\\in A}\\sum_{s'\\in S} P_{sa}(s') \\right|\\\\\n",
    "& = \\gamma\\max_{s''\\in S}\\left|V_1(s'') - V_2(s'')\\right|.\n",
    "\\end{align*}\n",
    "\n",
    "Note that for last equality we use the fact that $\\sum_{s'\\in S}P_{sa}(s') = 1$. \n",
    "\n",
    "Therefore, for each $s\\in S$,  $|B(V_1)(s)-B(V_2)(s)|\\leq \\max_{s'\\in S}|V_1(s') - V_2(s')|$ which clearly implies the desired inequality. "
   ]
  },
  {
   "cell_type": "markdown",
   "metadata": {},
   "source": [
    "## (b) [5 points] \n",
    "\n",
    "We say that $V$ is a fixed point of $B$ if $B(V)=V$. Using the fact that the Bellman update operator is a $\\gamma$-contraction in the max-norm, prove that $B$ has at most one fixed point, i.e., that there is at most one solution to the Bellman equations. You may assume that $B$ has at least one fixed point.\n",
    "\n",
    "__Remark:__ The result you proved in part (a) implies that value iteration converges geometrically to the optimal value function $V^*$. That is, after $k$ iterations, the distance between $V$ and $V^*$ is at most $\\gamma^k$.\n",
    "\n",
    "### Answer:"
   ]
  },
  {
   "cell_type": "markdown",
   "metadata": {},
   "source": [
    "Assume that $V_1$ and $V_2$ are two fixed points for $B$. Using the result in previous part, we have \n",
    "\\begin{align*}\n",
    "\\|V_1-V_2\\|_\\infty \n",
    "& = \\|B(V_1)-B(V_2)\\|_\\infty\\\\ \n",
    "& \\leq \\gamma\\|V_1-V_2\\|_\\infty,\n",
    "\\end{align*} \n",
    "\n",
    "which implies  \n",
    "$(1-\\gamma)\\|V_1-V_2\\|_\\infty \\leq 0$. Since $1-\\gamma\\geq 0$, it concludes $\\|V_1-V_2\\|_\\infty = 0$ and consequently $V_1=V_2$.\n",
    "\n",
    "__Remark:__ Since $B$ is a contraction and $\\mathbb{R}^{|S|}$ is a non-empty complete metric space, usinig [Banach Fixed Point Theorem](https://en.wikipedia.org/wiki/Banach_fixed-point_theorem), the existence of a unique fixed point for $B$ is ensured.  \n",
    "\n",
    "If $V^*$ is the fixed point for $B$, then, for each $V_0\\in \\mathbb{R}^{|S|}$,\n",
    "\n",
    "\\begin{align*}\n",
    "\\|B^k(V_0)-V^*\\|_\\infty \n",
    "& = \\|B^k(V)-B^k(V^*)\\|_\\infty \\\\\n",
    "& \\leq \\gamma^k\\|V_0-V^*\\|_\\infty\n",
    "\\end{align*}\n",
    "which indicates that $B^k(V)$ tends to $V^*$ exponentially fast as $k \\rightarrow \\infty$. "
   ]
  }
 ],
 "metadata": {
  "kernelspec": {
   "display_name": "Python 3",
   "language": "python",
   "name": "python3"
  },
  "language_info": {
   "codemirror_mode": {
    "name": "ipython",
    "version": 3
   },
   "file_extension": ".py",
   "mimetype": "text/x-python",
   "name": "python",
   "nbconvert_exporter": "python",
   "pygments_lexer": "ipython3",
   "version": "3.7.6"
  }
 },
 "nbformat": 4,
 "nbformat_minor": 4
}
